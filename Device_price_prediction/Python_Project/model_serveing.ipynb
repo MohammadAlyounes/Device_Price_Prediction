{
 "cells": [
  {
   "cell_type": "code",
   "execution_count": 1,
   "id": "197e83a3-2766-4980-901b-443ceb052564",
   "metadata": {},
   "outputs": [],
   "source": [
    "import joblib\n",
    "import json\n",
    "import numpy as np\n",
    "from flask import Flask, request, jsonify\n",
    "model_artifact = joblib.load(\"model.joblib\")\n",
    "rf_model = model_artifact[\"rf_model\"]"
   ]
  },
  {
   "cell_type": "code",
   "execution_count": 2,
   "id": "d11cb28f-568c-4084-836d-803539697ab8",
   "metadata": {},
   "outputs": [],
   "source": [
    "def predict_price(device_data):\n",
    "    # Assuming device_data is a dictionary\n",
    "    # Convert dictionary to a list of values\n",
    "    input_data = list(device_data.values())\n",
    "\n",
    "    # Convert input_data to a numpy array and reshape\n",
    "    input_data = np.array(input_data).reshape(1, -1)\n",
    "\n",
    "    # Make prediction\n",
    "    predicted_price = rf_model.predict(input_data)[0]\n",
    "    \n",
    "    # Convert numpy types to native Python types\n",
    "    predicted_price = predicted_price.item() if isinstance(predicted_price, np.generic) else predicted_price\n",
    "\n",
    "    price_map = {0: \"low cost\", 1: \"meduim cost\", 2: \"high cost\", 3: \"very high cost\" }\n",
    "\n",
    "    return price_map[predicted_price]"
   ]
  },
  {
   "cell_type": "code",
   "execution_count": 3,
   "id": "161eab14-9c48-475c-bf34-22876d6829b9",
   "metadata": {},
   "outputs": [],
   "source": [
    "app = Flask(__name__)\n",
    "\n",
    "@app.route('/predict', methods=['POST'])\n",
    "def predict():\n",
    "    device_data = request.get_json()  # Use get_json to fetch JSON payload\n",
    "    predicted_price = predict_price(device_data)\n",
    "    return jsonify({'predicted_price': predicted_price})"
   ]
  },
  {
   "cell_type": "code",
   "execution_count": null,
   "id": "2efd929e-bf80-4a44-8323-c8794393c6b5",
   "metadata": {},
   "outputs": [
    {
     "name": "stdout",
     "output_type": "stream",
     "text": [
      " * Serving Flask app '__main__'\n",
      " * Debug mode: off\n"
     ]
    },
    {
     "name": "stderr",
     "output_type": "stream",
     "text": [
      "WARNING: This is a development server. Do not use it in a production deployment. Use a production WSGI server instead.\n",
      " * Running on all addresses (0.0.0.0)\n",
      " * Running on http://127.0.0.1:5000\n",
      " * Running on http://10.81.0.4:5000\n",
      "Press CTRL+C to quit\n"
     ]
    }
   ],
   "source": [
    "if __name__ == '__main__':\n",
    "    app.run(host='0.0.0.0', port=5000)"
   ]
  },
  {
   "cell_type": "code",
   "execution_count": null,
   "id": "d57d5335-c6f9-4ee3-abbb-89ab5bee5162",
   "metadata": {},
   "outputs": [],
   "source": []
  },
  {
   "cell_type": "code",
   "execution_count": null,
   "id": "59fa6ae0-7d24-4a07-b13c-f214916ba5c1",
   "metadata": {},
   "outputs": [],
   "source": []
  },
  {
   "cell_type": "code",
   "execution_count": null,
   "id": "662dd1b6-d82d-4059-b735-d0fd96c4796f",
   "metadata": {},
   "outputs": [],
   "source": []
  },
  {
   "cell_type": "code",
   "execution_count": null,
   "id": "ebcef4dc-2bf2-4c1b-b325-3a33272a4b76",
   "metadata": {},
   "outputs": [],
   "source": []
  },
  {
   "cell_type": "code",
   "execution_count": null,
   "id": "db818d72-a768-4f27-8348-2a14858cb89c",
   "metadata": {},
   "outputs": [],
   "source": []
  },
  {
   "cell_type": "code",
   "execution_count": null,
   "id": "dbb844d7-e339-4de4-a0be-0298c066c158",
   "metadata": {},
   "outputs": [],
   "source": []
  },
  {
   "cell_type": "code",
   "execution_count": null,
   "id": "e7080209-aa5b-4a92-823c-0083a3c6cf9c",
   "metadata": {},
   "outputs": [],
   "source": []
  },
  {
   "cell_type": "code",
   "execution_count": null,
   "id": "75d70895-1119-4a5b-af2b-6c5f7c4490c6",
   "metadata": {},
   "outputs": [],
   "source": []
  },
  {
   "cell_type": "code",
   "execution_count": null,
   "id": "51d3e9e9-ec11-4cef-893b-0f92ec7e2cd9",
   "metadata": {},
   "outputs": [],
   "source": []
  },
  {
   "cell_type": "code",
   "execution_count": null,
   "id": "12944f7f-d72d-4b5a-b630-8e48899f1367",
   "metadata": {},
   "outputs": [],
   "source": []
  },
  {
   "cell_type": "code",
   "execution_count": null,
   "id": "5b287bd8-0173-4f4f-90c0-ec5365476db3",
   "metadata": {},
   "outputs": [],
   "source": []
  },
  {
   "cell_type": "code",
   "execution_count": null,
   "id": "a83800d6-455d-401b-a5ce-adbb449653dc",
   "metadata": {},
   "outputs": [],
   "source": []
  },
  {
   "cell_type": "code",
   "execution_count": null,
   "id": "c1441826-d158-4e3f-b1f7-4e4ed8561f72",
   "metadata": {},
   "outputs": [],
   "source": []
  },
  {
   "cell_type": "code",
   "execution_count": null,
   "id": "663cac6b-48d4-4808-b944-e6e9bb19ff8a",
   "metadata": {},
   "outputs": [],
   "source": []
  },
  {
   "cell_type": "code",
   "execution_count": null,
   "id": "d3316e61-d725-41e5-8d68-1f5004037bea",
   "metadata": {},
   "outputs": [],
   "source": []
  },
  {
   "cell_type": "code",
   "execution_count": null,
   "id": "8e897ab1-13e4-4dda-a871-c7b00b7d8850",
   "metadata": {},
   "outputs": [],
   "source": []
  },
  {
   "cell_type": "code",
   "execution_count": null,
   "id": "81ce5edb-5f2f-4a62-8292-e754b2ca63c0",
   "metadata": {},
   "outputs": [],
   "source": []
  },
  {
   "cell_type": "code",
   "execution_count": null,
   "id": "f28da5f2-8979-4c15-a2f5-fdff2e1e8cab",
   "metadata": {},
   "outputs": [],
   "source": []
  }
 ],
 "metadata": {
  "kernelspec": {
   "display_name": "Python 3 (ipykernel)",
   "language": "python",
   "name": "python3"
  },
  "language_info": {
   "codemirror_mode": {
    "name": "ipython",
    "version": 3
   },
   "file_extension": ".py",
   "mimetype": "text/x-python",
   "name": "python",
   "nbconvert_exporter": "python",
   "pygments_lexer": "ipython3",
   "version": "3.11.7"
  }
 },
 "nbformat": 4,
 "nbformat_minor": 5
}
